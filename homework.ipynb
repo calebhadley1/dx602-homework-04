{
  "cells": [
    {
      "cell_type": "markdown",
      "source": [
        "# DX 602 Week 4 Homework\n",
        "\n"
      ],
      "metadata": {
        "id": "Z_pRhVVPp3vD"
      }
    },
    {
      "cell_type": "markdown",
      "source": [
        "## Introduction\n",
        "\n",
        "In this homework, you will practice working with strings to represent data, and reading and writing files to access and store data.\n",
        "\n",
        "You may find it helpful to refer to this GitHub repository of Jupyter notebooks for sample code.\n",
        "\n",
        "* https://github.com/bu-cds-omds/dx602-examples\n",
        "\n",
        "Any calculations demonstrated in code examples or videos may be found in these notebooks, and you are allowed to copy this example code in your homework answers."
      ],
      "metadata": {
        "id": "F1zsR3_xKOUm"
      }
    },
    {
      "cell_type": "markdown",
      "source": [
        "## Instructions\n",
        "\n",
        "You should replace every instance of \"...\" below.\n",
        "These are where you are expected to write code to answer each problem.\n",
        "\n",
        "After some of the problems, there are extra code cells that will test functions that you wrote so you can quickly see how they run on an example.\n",
        "If your code works on these examples, it is more likely to be correct.\n",
        "However, the autograder will test different examples, so working correctly on these examples does not guarantee full credit for the problem.\n",
        "You may change the example inputs to further test your functions on your own.\n",
        "You may also add your own example inputs for problems where we did not provide any.\n",
        "\n",
        "Be sure to run each code block after you edit it to make sure it runs as expected.\n",
        "When you are done, we strongly recommend you run all the code from scratch (Runtime menu -> Restart and Run all) to make sure your current code works for all problems.\n",
        "\n",
        "If your code raises an exception when run from scratch, it will  interfere with the auto-grader process causing you to lose some or all points for this homework.\n",
        "Please ask for help in YellowDig or schedule an appointment with a learning facilitator if you get stuck.\n"
      ],
      "metadata": {
        "id": "dJAalY6t1Y-5"
      }
    },
    {
      "cell_type": "markdown",
      "source": [
        "### Submission\n",
        "\n",
        "To submit your homework, take the following steps.\n",
        "\n",
        "1. Save and commit this notebook.\n",
        "2. Push your changes to GitHub.\n",
        "3. Confirm that your changes are visible in GitHub.\n",
        "4. Delete the codespace to avoid wasting your free quota.\n",
        "\n",
        "The auto-grading process usually completes within a few minutes of pushing to GitHub, but occasionally can take several minutes to an hour.\n",
        "If you submit your homework early enough, you may review the auto-grading results and fix any mistakes before the deadline.\n"
      ],
      "metadata": {
        "id": "mBbztKnrKmRb"
      }
    },
    {
      "cell_type": "markdown",
      "source": [
        "#### Shared Imports\n",
        "\n",
        "These common imports will be useful for some problems.\n",
        "You may add other imports, but you should not try to install new modules not available in our Codespaces environment."
      ],
      "metadata": {}
    },
    {
      "cell_type": "code",
      "execution_count": 1,
      "source": [
        "import csv\n",
        "import json\n",
        "import re"
      ],
      "outputs": [],
      "metadata": {}
    },
    {
      "cell_type": "markdown",
      "source": [
        "### Problem 1\n",
        "\n",
        "Set the variable `p1` to the length of the string `q1`."
      ],
      "metadata": {
        "id": "blKiYYVsw6QW"
      }
    },
    {
      "cell_type": "code",
      "execution_count": 3,
      "source": [
        "# DO NOT CHANGE\n",
        "\n",
        "q1 = \"Hello, I am a robot living in this notebook.\""
      ],
      "outputs": [],
      "metadata": {
        "id": "cP4rScqMGuze"
      }
    },
    {
      "cell_type": "code",
      "execution_count": 4,
      "source": [
        "# YOUR CHANGES HERE\n",
        "\n",
        "p1 = len(q1)"
      ],
      "outputs": [],
      "metadata": {
        "id": "S73zAB2vxDZs"
      }
    },
    {
      "cell_type": "markdown",
      "source": [
        "### Problem 2\n",
        "\n",
        "The variable `q2` below contains a line of text from a comma-separated value file.\n",
        "Set `p2` to the number of fields in `q2`."
      ],
      "metadata": {
        "id": "k5t19CKuWgAy"
      }
    },
    {
      "cell_type": "markdown",
      "source": [
        "Hint: Is there a string method that can separate the fields in `q2` into a list?"
      ],
      "metadata": {
        "id": "040QkC0fW3Ao"
      }
    },
    {
      "cell_type": "code",
      "execution_count": 6,
      "source": [
        "# DO NOT CHANGE\n",
        "\n",
        "q2 = \"35,Hello,red,153.2,n/a,true,true,true,false,154,92,2024-09-01,2020-03-06,confirmed,n/a,F,100,100\\n\""
      ],
      "outputs": [],
      "metadata": {
        "id": "KQiLAQuKW9Ce"
      }
    },
    {
      "cell_type": "code",
      "execution_count": 7,
      "source": [
        "# YOUR CHANGES HERE\n",
        "\n",
        "p2 = len(q2.split(','))"
      ],
      "outputs": [],
      "metadata": {
        "id": "2tXbdHcbXS_7"
      }
    },
    {
      "cell_type": "code",
      "execution_count": 8,
      "source": [
        "p2"
      ],
      "outputs": [
        {
          "output_type": "execute_result",
          "data": {
            "text/plain": [
              "18"
            ]
          },
          "metadata": {},
          "execution_count": 8
        }
      ],
      "metadata": {}
    },
    {
      "cell_type": "markdown",
      "source": [
        "### Problem 3\n",
        "\n",
        "Write a function `p3` that takes in a string as input, and returns `True` if the string contains \"silly\" and the length of the string is at most 50 characters and `False` otherwise."
      ],
      "metadata": {
        "id": "QlLPGYyAC_YI"
      }
    },
    {
      "cell_type": "code",
      "execution_count": 9,
      "source": [
        "# YOUR CHANGES HERE\n",
        "\n",
        "def p3(joke):\n",
        "    if \"silly\" in joke and len(joke) <= 50:\n",
        "        return True\n",
        "    return False"
      ],
      "outputs": [],
      "metadata": {
        "id": "1CUU_Td7DdnH"
      }
    },
    {
      "cell_type": "code",
      "execution_count": 10,
      "source": [
        "p3(\"this is a silly joke\")"
      ],
      "outputs": [
        {
          "output_type": "execute_result",
          "data": {
            "text/plain": [
              "True"
            ]
          },
          "metadata": {},
          "execution_count": 10
        }
      ],
      "metadata": {}
    },
    {
      "cell_type": "code",
      "execution_count": 11,
      "source": [
        "p3(\"this joke is so boring because it drones on and on and on and on forever as if noone is really reading this amirite?\")"
      ],
      "outputs": [
        {
          "output_type": "execute_result",
          "data": {
            "text/plain": [
              "False"
            ]
          },
          "metadata": {},
          "execution_count": 11
        }
      ],
      "metadata": {}
    },
    {
      "cell_type": "markdown",
      "source": [
        "### Problem 4\n",
        "\n",
        "In the video \"Parsing Numbers from Strings\", you saw the `ord` function used to map individual characters to their character codes.\n",
        "You can reverse this operation with the `chr` function."
      ],
      "metadata": {
        "id": "voCorEFqDgHa"
      }
    },
    {
      "cell_type": "code",
      "execution_count": 12,
      "source": [
        "ord('🦄')"
      ],
      "outputs": [
        {
          "output_type": "execute_result",
          "data": {
            "text/plain": [
              "129412"
            ]
          },
          "metadata": {},
          "execution_count": 12
        }
      ],
      "metadata": {
        "colab": {
          "base_uri": "https://localhost:8080/"
        },
        "id": "9Ay491sCFoWE",
        "outputId": "1f74d923-1d52-4730-ad15-4f9fd213ab39"
      }
    },
    {
      "cell_type": "code",
      "execution_count": 13,
      "source": [
        "chr(129412)"
      ],
      "outputs": [
        {
          "output_type": "execute_result",
          "data": {
            "text/plain": [
              "'🦄'"
            ]
          },
          "metadata": {},
          "execution_count": 13
        }
      ],
      "metadata": {
        "colab": {
          "base_uri": "https://localhost:8080/",
          "height": 35
        },
        "id": "zBFgiVa7FqVL",
        "outputId": "7dea34e9-7897-4d8e-c945-44a982e3677c"
      }
    },
    {
      "cell_type": "markdown",
      "source": [
        "The Unicode characters with codes 128200, 128201, and 128202 are all emoji related to data science.\n",
        "Set `p4` to the concatenation of these three emoji characters together.\n",
        "That is, make `p4` with those three characters in that order and just those three characters."
      ],
      "metadata": {
        "id": "XFwcUtVnFtb-"
      }
    },
    {
      "cell_type": "code",
      "execution_count": 14,
      "source": [
        "# YOUR CHANGES HERE\n",
        "\n",
        "p4 = chr(128200) + chr(128201) + chr(128202)"
      ],
      "outputs": [],
      "metadata": {
        "id": "8onkYe3bEFmd"
      }
    },
    {
      "cell_type": "code",
      "execution_count": 15,
      "source": [
        "p4"
      ],
      "outputs": [
        {
          "output_type": "execute_result",
          "data": {
            "text/plain": [
              "'📈📉📊'"
            ]
          },
          "metadata": {},
          "execution_count": 15
        }
      ],
      "metadata": {}
    },
    {
      "cell_type": "markdown",
      "source": [
        "### Problem 5\n",
        "\n",
        "Set `p5` to be a copy of the variable `q5` after replacing \"jumped over\" with \"greeted\" and \"lazy\" with \"friendly\"."
      ],
      "metadata": {
        "id": "6nhuM87ZGIXm"
      }
    },
    {
      "cell_type": "code",
      "execution_count": 16,
      "source": [
        "# DO NOT CHANGE\n",
        "\n",
        "q5 = \"The quick brown fox jumped over the lazy brown dog.\""
      ],
      "outputs": [],
      "metadata": {
        "id": "iezT1WYDGclf"
      }
    },
    {
      "cell_type": "code",
      "execution_count": 17,
      "source": [
        "# YOUR CHANGES HERE\n",
        "\n",
        "p5 = q5.replace('jumped over', 'greeted').replace('lazy', 'frendly')"
      ],
      "outputs": [],
      "metadata": {
        "id": "K0KoZch7Gp1w"
      }
    },
    {
      "cell_type": "code",
      "execution_count": 18,
      "source": [
        "p5"
      ],
      "outputs": [
        {
          "output_type": "execute_result",
          "data": {
            "text/plain": [
              "'The quick brown fox greeted the frendly brown dog.'"
            ]
          },
          "metadata": {},
          "execution_count": 18
        }
      ],
      "metadata": {}
    },
    {
      "cell_type": "markdown",
      "source": [
        "### Problem 6\n",
        "\n",
        "Write a function `p6` that takes in a filename as an argument, reads it as a TSV with a header row, and returns an iterator of dictionaries like in the example code.\n",
        "Each value should be parsed as an integer.\n",
        "If a value does not parse successfully, set the value to None."
      ],
      "metadata": {
        "id": "pqPETeBNMi81"
      }
    },
    {
      "cell_type": "code",
      "execution_count": 35,
      "source": [
        "# YOUR CHANGES HERE\n",
        "\n",
        "def p6(filename):\n",
        "    with open(filename) as fp:\n",
        "        def parse_line(line):\n",
        "            return line.rstrip(\"\\n\").split(\"\\t\")\n",
        "        def to_int(line):\n",
        "            new_line = []\n",
        "            for i in line:\n",
        "                val = None\n",
        "                try:\n",
        "                    val = int(i)\n",
        "                except:\n",
        "                    pass\n",
        "                new_line.append(val)\n",
        "            return new_line\n",
        "\n",
        "        header = parse_line(next(fp))\n",
        "        for line in fp:\n",
        "            line = parse_line(line)\n",
        "            line = to_int(line)\n",
        "            yield dict(zip(header, line))\n"
      ],
      "outputs": [],
      "metadata": {
        "id": "PhrfDMbyMnc1"
      }
    },
    {
      "cell_type": "code",
      "execution_count": 36,
      "source": [
        "list(p6(\"data6_a.tsv\"))"
      ],
      "outputs": [
        {
          "output_type": "execute_result",
          "data": {
            "text/plain": [
              "[{'a': 3, 'b': 4}]"
            ]
          },
          "metadata": {},
          "execution_count": 36
        }
      ],
      "metadata": {}
    },
    {
      "cell_type": "code",
      "execution_count": 37,
      "source": [
        "list(p6(\"data6_b.tsv\"))"
      ],
      "outputs": [
        {
          "output_type": "execute_result",
          "data": {
            "text/plain": [
              "[{'a': None, 'b': None, 'c': None}]"
            ]
          },
          "metadata": {},
          "execution_count": 37
        }
      ],
      "metadata": {}
    },
    {
      "cell_type": "markdown",
      "source": [
        "### Problem 7\n",
        "\n",
        "Write a function `p7` that takes in a filename as an argument, reads it as a TSV with a header row, and returns an iterator of dictionaries like in the example code.\n",
        "Each value should be parsed as an integer, and if the value does not parse successfully, set the value to 3.\n",
        "In addition, add a new key “finagled” to each dictionary with value True if any value did not parse successfully and False otherwise."
      ],
      "metadata": {
        "id": "gE7eblr4MvR_"
      }
    },
    {
      "cell_type": "markdown",
      "source": [
        "Hints:\n",
        "1. Use the function `p6` that you previously wrote for the shared work.\n",
        "2. Use `is None` to check for parsing failures.\n",
        "3. For the new finagled flag, set it to False initially, and change the value to True if you find a parsing failure.\n"
      ],
      "metadata": {
        "id": "q9vroUV6M-C2"
      }
    },
    {
      "cell_type": "code",
      "execution_count": 38,
      "source": [
        "# YOUR CHANGES HERE\n",
        "\n",
        "def p7(filename):\n",
        "    with open(filename) as fp:\n",
        "        def parse_line(line):\n",
        "            return line.rstrip(\"\\n\").split(\"\\t\")\n",
        "        def to_int(line):\n",
        "            new_line = []\n",
        "            for i in line:\n",
        "                val = None\n",
        "                try:\n",
        "                    val = int(i)\n",
        "                except:\n",
        "                    pass\n",
        "                new_line.append(val)\n",
        "            return new_line\n",
        "        def handle_nulls(d):\n",
        "            nulls_present = False\n",
        "            for k, v in d.items():\n",
        "                if v is None:\n",
        "                    nulls_present = True\n",
        "                    d[k] = 3\n",
        "            if nulls_present:\n",
        "                d['finagled'] = True\n",
        "            else:\n",
        "                d['finagled'] = False\n",
        "            return d\n",
        "\n",
        "                \n",
        "\n",
        "        header = parse_line(next(fp))\n",
        "        for line in fp:\n",
        "            line = parse_line(line)\n",
        "            line = to_int(line)\n",
        "            d = dict(zip(header, line))\n",
        "            yield handle_nulls(d)\n"
      ],
      "outputs": [],
      "metadata": {
        "id": "5-wvb6MGMuUT"
      }
    },
    {
      "cell_type": "code",
      "execution_count": 39,
      "source": [
        "list(p7(\"data7_a.tsv\"))"
      ],
      "outputs": [
        {
          "output_type": "execute_result",
          "data": {
            "text/plain": [
              "[{'a': 3, 'b': 4, 'finagled': False}]"
            ]
          },
          "metadata": {},
          "execution_count": 39
        }
      ],
      "metadata": {}
    },
    {
      "cell_type": "code",
      "execution_count": 40,
      "source": [
        "list(p7(\"data7_b.tsv\"))"
      ],
      "outputs": [
        {
          "output_type": "execute_result",
          "data": {
            "text/plain": [
              "[{'a': 3, 'b': 3, 'c': 3, 'finagled': True}]"
            ]
          },
          "metadata": {},
          "execution_count": 40
        }
      ],
      "metadata": {}
    },
    {
      "cell_type": "markdown",
      "source": [
        "### Problem 8\n",
        "\n",
        "Write a function `p8` that takes in three inputs - an input file name, an output filename, and a list of column names.\n",
        "The function should read the input file using the TSV format and write the output file using the TSV format with just the specified input column names.\n",
        "The output file should have the columns in the same order as the input column name list.\n"
      ],
      "metadata": {
        "id": "JKXpd68DNMj4"
      }
    },
    {
      "cell_type": "code",
      "execution_count": 57,
      "source": [
        "# YOUR CHANGES HERE\n",
        "\n",
        "def p8(input_filename, output_filename, column_names):\n",
        "    # read the input file\n",
        "    with open(input_filename) as fp:\n",
        "        def parse_line(line):\n",
        "            return line.rstrip(\"\\n\").split(\"\\t\")\n",
        "        def filter_line_by_columns(header, column_names, line) -> str:\n",
        "            new_line = []\n",
        "            for c in column_names:\n",
        "                try:\n",
        "                    i = header.index(c)\n",
        "                    new_line.append(line[i])\n",
        "                except ValueError:\n",
        "                    pass\n",
        "            return '\\t'.join(new_line) + '\\n'\n",
        "        header = parse_line(next(fp))\n",
        "        filtered_lines = []\n",
        "        for line in fp:\n",
        "            line = parse_line(line)\n",
        "            filtered_line = filter_line_by_columns(header, column_names, line)\n",
        "            filtered_lines.append(filtered_line)\n",
        "    with open(output_filename, mode='w') as fp:\n",
        "        fp.write('\\t'.join(column_names) + '\\n')\n",
        "        [fp.write(l) for l in filtered_lines]\n",
        "    # get the headers and the indexes of the header columns that are in the input list\n",
        "    # "
      ],
      "outputs": [],
      "metadata": {
        "id": "YIN0GfynNVS9"
      }
    },
    {
      "cell_type": "markdown",
      "source": [
        "You can use the next two cells to test your function."
      ],
      "metadata": {
        "id": "JrSMytwHNsIJ"
      }
    },
    {
      "cell_type": "code",
      "execution_count": 58,
      "source": [
        "# test p8\n",
        "p8(\"input-8.tsv\", \"output-8.tsv\", [\"height\", \"width\", \"color\"])"
      ],
      "outputs": [],
      "metadata": {
        "id": "Tr1U2MgwNaqN"
      }
    },
    {
      "cell_type": "code",
      "execution_count": 59,
      "source": [
        "try:\n",
        "    with open(\"output-8.tsv\") as check_fp:\n",
        "        for line in check_fp:\n",
        "            print(line.rstrip(\"\\n\"))\n",
        "except FileNotFoundError:\n",
        "    print(\"file not found\")"
      ],
      "outputs": [
        {
          "output_type": "stream",
          "name": "stdout",
          "text": [
            "height\twidth\tcolor\n",
            "45\t23\tred\n",
            "62\t15\tblue\n",
            "23\t123\tgreen\n"
          ]
        }
      ],
      "metadata": {
        "id": "KIn9DFPaNoZl"
      }
    },
    {
      "cell_type": "markdown",
      "source": [
        "### Problem 9\n",
        "\n",
        "Write a function `p9` that takes in a filename as an argument, reads it as a TSV with a header row, and returns the number of rows with data."
      ],
      "metadata": {
        "id": "G_7f6OuiQF-C"
      }
    },
    {
      "cell_type": "markdown",
      "source": [
        "Hint:\n",
        "*  This should be simple, but make sure not to count blank lines."
      ],
      "metadata": {
        "id": "VmAOs1fOQKB6"
      }
    },
    {
      "cell_type": "code",
      "execution_count": 61,
      "source": [
        "# YOUR CHANGES HERE\n",
        "\n",
        "def p9(filename):\n",
        "    with open(filename) as fp:\n",
        "        def parse_line(line):\n",
        "            return line.rstrip(\"\\n\").split(\"\\t\")\n",
        "        header = parse_line(next(fp))\n",
        "        count = 0\n",
        "        for r in fp:\n",
        "            line = parse_line(r)\n",
        "            print(line)\n",
        "            if any(x != '' for x in line):\n",
        "                count+=1\n",
        "    return count"
      ],
      "outputs": [],
      "metadata": {
        "id": "bm-zS-HLQQgh"
      }
    },
    {
      "cell_type": "code",
      "execution_count": 62,
      "source": [
        "p9(\"data9_a.tsv\")"
      ],
      "outputs": [
        {
          "output_type": "stream",
          "name": "stdout",
          "text": [
            "['1', '2']\n"
          ]
        },
        {
          "output_type": "execute_result",
          "data": {
            "text/plain": [
              "1"
            ]
          },
          "metadata": {},
          "execution_count": 62
        }
      ],
      "metadata": {}
    },
    {
      "cell_type": "code",
      "execution_count": 63,
      "source": [
        "p9(\"data9_b.tsv\")"
      ],
      "outputs": [
        {
          "output_type": "execute_result",
          "data": {
            "text/plain": [
              "0"
            ]
          },
          "metadata": {},
          "execution_count": 63
        }
      ],
      "metadata": {}
    },
    {
      "cell_type": "markdown",
      "source": [
        "### Problem 10\n",
        "\n",
        "Write a function `p10` that takes in a filename as an argument, and returns `True` if the file is formatted as a TSV file and `False` otherwise.\n"
      ],
      "metadata": {
        "id": "iCFdEYGwG82t"
      }
    },
    {
      "cell_type": "markdown",
      "source": [
        "Hint: You can do this just looking at the first line of the file."
      ],
      "metadata": {
        "id": "gW_pQZK7H2_-"
      }
    },
    {
      "cell_type": "code",
      "execution_count": 69,
      "source": [
        "# YOUR CHANGES HERE\n",
        "\n",
        "def p10(filename):\n",
        "    with open(filename) as fp:\n",
        "        def parse_line(line):\n",
        "            return line.rstrip(\"\\n\").split(\"\\t\")\n",
        "        header = next(fp)\n",
        "        return True if '\\t' in header else False\n"
      ],
      "outputs": [],
      "metadata": {
        "id": "sGqg9EJ5H-8V"
      }
    },
    {
      "cell_type": "code",
      "execution_count": 70,
      "source": [
        "p10(\"data10_a.tsv\")"
      ],
      "outputs": [
        {
          "output_type": "execute_result",
          "data": {
            "text/plain": [
              "True"
            ]
          },
          "metadata": {},
          "execution_count": 70
        }
      ],
      "metadata": {}
    },
    {
      "cell_type": "code",
      "execution_count": 71,
      "source": [
        "p10(\"data10_b.tsv\")"
      ],
      "outputs": [
        {
          "output_type": "execute_result",
          "data": {
            "text/plain": [
              "False"
            ]
          },
          "metadata": {},
          "execution_count": 71
        }
      ],
      "metadata": {}
    },
    {
      "cell_type": "markdown",
      "source": [
        "### Problem 11\n",
        "\n",
        "The variable `p11` below is assigned using an f-string without formatting options.\n",
        "Modify the f-string to display the number of visits with commas, and the average visit revenue with two digits after the decimal point.\n",
        "You should only modify the f-string for this problem.\n",
        "\n",
        "Feel free to search for the formatting options to guide you modifying the f-string.\n",
        "You will learn the more commonly used options with practice."
      ],
      "metadata": {
        "id": "YluyxFIBYn9i"
      }
    },
    {
      "cell_type": "code",
      "execution_count": 72,
      "source": [
        "# DO NOT CHANGE\n",
        "\n",
        "q11a = 5125\n",
        "q11b = 3.5123565123"
      ],
      "outputs": [],
      "metadata": {
        "id": "5ymdKizuY1Jd"
      }
    },
    {
      "cell_type": "code",
      "execution_count": 79,
      "source": [
        "# YOUR CHANGES HERE\n",
        "\n",
        "p11 = f\"Number of visits = {q11a:,}, average visit revenue = {q11b:.2f}\""
      ],
      "outputs": [],
      "metadata": {
        "id": "8bibT3VpZEKq"
      }
    },
    {
      "cell_type": "code",
      "execution_count": 80,
      "source": [
        "p11"
      ],
      "outputs": [
        {
          "output_type": "execute_result",
          "data": {
            "text/plain": [
              "'Number of visits = 5,125, average visit revenue = 3.51'"
            ]
          },
          "metadata": {},
          "execution_count": 80
        }
      ],
      "metadata": {
        "id": "QENJ6s5lZMpg"
      }
    },
    {
      "cell_type": "markdown",
      "source": [
        "### Problem 12\n",
        "\n",
        "The variable `q12` below contains a line of text read from a CSV file.\n",
        "Set `p12` to the floating point number in the first column of `q12`."
      ],
      "metadata": {
        "id": "v5ye5MghZ-FA"
      }
    },
    {
      "cell_type": "code",
      "execution_count": 81,
      "source": [
        "# DO NOT CHANGE\n",
        "\n",
        "q12 = \"6.4,dog,red,0.9\\n\""
      ],
      "outputs": [],
      "metadata": {
        "id": "0p6cgsMkZ9J3"
      }
    },
    {
      "cell_type": "code",
      "execution_count": 90,
      "source": [
        "# YOUR CHANGES HERE\n",
        "\n",
        "p12 = q12.split(',')[0]"
      ],
      "outputs": [],
      "metadata": {
        "id": "drPdwLZ8aZdo"
      }
    },
    {
      "cell_type": "code",
      "execution_count": 91,
      "source": [
        "p12"
      ],
      "outputs": [
        {
          "output_type": "execute_result",
          "data": {
            "text/plain": [
              "'6.4'"
            ]
          },
          "metadata": {},
          "execution_count": 91
        }
      ],
      "metadata": {}
    },
    {
      "cell_type": "markdown",
      "source": [
        "### Problem 13\n",
        "\n",
        "Write a function `p13` that takes in a filename as an argument, reads it as a CSV with a header row, and returns a list of the column names.\n",
        "The list of column names should be in the same order as in the file's header."
      ],
      "metadata": {
        "id": "DzUKbAYhQXbG"
      }
    },
    {
      "cell_type": "code",
      "execution_count": 104,
      "source": [
        "# YOUR CHANGES HERE\n",
        "\n",
        "def p13(filename):\n",
        "    with open(filename) as fp:\n",
        "        header = next(fp)\n",
        "        header = header.rstrip(\"\\n\").replace('\"', '').split(\",\")\n",
        "    return header"
      ],
      "outputs": [],
      "metadata": {
        "id": "fMqaF4brQhrq"
      }
    },
    {
      "cell_type": "code",
      "execution_count": 105,
      "source": [
        "p13(\"data13_a.csv\")"
      ],
      "outputs": [
        {
          "output_type": "execute_result",
          "data": {
            "text/plain": [
              "['foo', 'bar']"
            ]
          },
          "metadata": {},
          "execution_count": 105
        }
      ],
      "metadata": {}
    },
    {
      "cell_type": "code",
      "execution_count": 106,
      "source": [
        "p13(\"data13_b.csv\")"
      ],
      "outputs": [
        {
          "output_type": "execute_result",
          "data": {
            "text/plain": [
              "['foo', 'bar']"
            ]
          },
          "metadata": {},
          "execution_count": 106
        }
      ],
      "metadata": {}
    },
    {
      "cell_type": "markdown",
      "source": [
        "### Problem 14\n",
        "\n",
        "Write a function `p14` that takes in an input filename and column name, parses the file as a CSV with a header row, and returns a list of the values in the given column.\n",
        "If the column is missing, your function should return a KeyError."
      ],
      "metadata": {
        "id": "-WW_1NgRN3J6"
      }
    },
    {
      "cell_type": "code",
      "execution_count": 137,
      "source": [
        "# YOUR CHANGES HERE\n",
        "\n",
        "def p14(filename, column_name):\n",
        "    with open(filename) as fp:\n",
        "        def parse_line(line):\n",
        "            return line.rstrip('\\n').replace('\"','').split(',')\n",
        "        header = parse_line(next(fp))\n",
        "        try:\n",
        "            i = header.index(column_name)\n",
        "        except:\n",
        "            raise KeyError\n",
        "        lines = []\n",
        "        for l in fp:\n",
        "            line = parse_line(l)\n",
        "            lines.append(line)\n",
        "    result = [l[i] for l in lines]\n",
        "    return result"
      ],
      "outputs": [],
      "metadata": {
        "id": "1vo-ODsBPSW1"
      }
    },
    {
      "cell_type": "code",
      "execution_count": 138,
      "source": [
        "p14(\"data14_a.csv\", \"foo\")"
      ],
      "outputs": [
        {
          "output_type": "execute_result",
          "data": {
            "text/plain": [
              "['1', '3']"
            ]
          },
          "metadata": {},
          "execution_count": 138
        }
      ],
      "metadata": {}
    },
    {
      "cell_type": "code",
      "execution_count": 139,
      "source": [
        "p14(\"data14_a.csv\", \"bar\")"
      ],
      "outputs": [
        {
          "output_type": "execute_result",
          "data": {
            "text/plain": [
              "['2', '4']"
            ]
          },
          "metadata": {},
          "execution_count": 139
        }
      ],
      "metadata": {}
    },
    {
      "cell_type": "code",
      "execution_count": 140,
      "source": [
        "p14(\"data14_b.csv\", \"foo\")"
      ],
      "outputs": [
        {
          "output_type": "execute_result",
          "data": {
            "text/plain": [
              "['1']"
            ]
          },
          "metadata": {},
          "execution_count": 140
        }
      ],
      "metadata": {}
    },
    {
      "cell_type": "code",
      "execution_count": 141,
      "source": [
        "p14(\"data14_b.csv\", \"bar\")"
      ],
      "outputs": [
        {
          "output_type": "execute_result",
          "data": {
            "text/plain": [
              "['2']"
            ]
          },
          "metadata": {},
          "execution_count": 141
        }
      ],
      "metadata": {}
    },
    {
      "cell_type": "markdown",
      "source": [
        "### Problem 15\n",
        "\n",
        "Write a function `p15` that takes in a filename and string key, parses the file as JSON, and returns the value for that key. If the object in the JSON file is not a dictionary or the given key does not exist, then the function should return None."
      ],
      "metadata": {
        "id": "o65vc-i9Q8mu"
      }
    },
    {
      "cell_type": "code",
      "execution_count": 142,
      "source": [
        "# YOUR CHANGES HERE\n",
        "\n",
        "def p15(filename, key):\n",
        "    with open(filename) as fp:\n",
        "        try:\n",
        "            d = dict(next(fp))\n",
        "            return d[key]\n",
        "        except:\n",
        "            return None"
      ],
      "outputs": [],
      "metadata": {
        "id": "hwZliDa0RIDJ"
      }
    },
    {
      "cell_type": "code",
      "execution_count": 143,
      "source": [
        "p15(\"data15_a.json\", \"x\")"
      ],
      "outputs": [],
      "metadata": {}
    },
    {
      "cell_type": "code",
      "execution_count": 144,
      "source": [
        "p15(\"data15_a.json\", \"y\")"
      ],
      "outputs": [],
      "metadata": {}
    },
    {
      "cell_type": "markdown",
      "source": [
        "### Problem 16\n",
        "\n",
        "Write a function that takes in an input filename, parses the file as a TSV with a header row, and returns a dictionary with the average value of each column."
      ],
      "metadata": {
        "id": "-r_LEYgDPWip"
      }
    },
    {
      "cell_type": "markdown",
      "source": [
        "Hint:\n",
        "* Write a helper function to compute the average of a list, and use list comprehensions to get all the values for each column.\n"
      ],
      "metadata": {
        "id": "twnfDlv2PjO3"
      }
    },
    {
      "cell_type": "code",
      "execution_count": 153,
      "source": [
        "# YOUR CHANGES HERE\n",
        "\n",
        "def p16(filename):\n",
        "    with open(filename) as fp:\n",
        "        def parse_line(line: str) -> list[str]:\n",
        "            return line.rstrip('\\n').split('\\t')\n",
        "        \n",
        "        # first read header to get dict keys\n",
        "        header = parse_line(next(fp))\n",
        "        # print(header)\n",
        "        # define dict of arrays\n",
        "        d = {}\n",
        "        for h in header:\n",
        "            d[h] = []\n",
        "        # read each row, adding to the appropriate key by using the index\n",
        "        for line in fp:\n",
        "            parsed_line = parse_line(line)\n",
        "            for i, r in enumerate(parsed_line):\n",
        "                # which key should i add to?\n",
        "                k = header[i]\n",
        "                d[k].append(float(r))\n",
        "        mean_dict = {}\n",
        "        for k, v in d.items():\n",
        "            mean_dict[k] = sum(v) / len(v)\n",
        "        return mean_dict\n"
      ],
      "outputs": [],
      "metadata": {
        "id": "GGmnvLxbPpLv"
      }
    },
    {
      "cell_type": "code",
      "execution_count": 154,
      "source": [
        "p16(\"data16_a.tsv\")"
      ],
      "outputs": [
        {
          "output_type": "execute_result",
          "data": {
            "text/plain": [
              "{'foo': 1.0, 'bar': 2.0}"
            ]
          },
          "metadata": {},
          "execution_count": 154
        }
      ],
      "metadata": {}
    },
    {
      "cell_type": "markdown",
      "source": [
        "### Problem 17\n",
        "\n",
        "Write a function `p17` that takes in a filename as an argument and a list of column names, parses the file as a CSV, and returns True if all the given columns are in the file and False otherwise."
      ],
      "metadata": {
        "id": "tIwyDeWjQeQ4"
      }
    },
    {
      "cell_type": "code",
      "execution_count": 157,
      "source": [
        "# YOUR CHANGES HERE\n",
        "\n",
        "def p17(filename, column_names):\n",
        "    with open(filename) as fp:\n",
        "        def parse_line(line: str) -> list[str]:\n",
        "            return line.rstrip('\\n').replace('\"','').split(',')\n",
        "        header = parse_line(next(fp))\n",
        "        return all(c in header for c in column_names)\n",
        "        "
      ],
      "outputs": [],
      "metadata": {
        "id": "zXAXdv8sQrOm"
      }
    },
    {
      "cell_type": "code",
      "execution_count": 158,
      "source": [
        "p17(\"data17_a.csv\", [\"foo\"])"
      ],
      "outputs": [
        {
          "output_type": "execute_result",
          "data": {
            "text/plain": [
              "True"
            ]
          },
          "metadata": {},
          "execution_count": 158
        }
      ],
      "metadata": {}
    },
    {
      "cell_type": "code",
      "execution_count": 159,
      "source": [
        "p17(\"data17_a.csv\", [\"foo\", \"bar\"])"
      ],
      "outputs": [
        {
          "output_type": "execute_result",
          "data": {
            "text/plain": [
              "True"
            ]
          },
          "metadata": {},
          "execution_count": 159
        }
      ],
      "metadata": {}
    },
    {
      "cell_type": "code",
      "execution_count": 160,
      "source": [
        "p17(\"data17_a.csv\", [\"baz\"])"
      ],
      "outputs": [
        {
          "output_type": "execute_result",
          "data": {
            "text/plain": [
              "False"
            ]
          },
          "metadata": {},
          "execution_count": 160
        }
      ],
      "metadata": {}
    },
    {
      "cell_type": "markdown",
      "source": [
        "### Problem 18\n",
        "\n",
        "Write a function `p18` that takes in a filename, column name, and column value as arguments, parses the file as a TSV, and returns the first row where the given column has the given value. The row should be returned as a dictionary. If no such row exists, return None.\n"
      ],
      "metadata": {
        "id": "t5oXA2CUQ0hU"
      }
    },
    {
      "cell_type": "code",
      "execution_count": 161,
      "source": [
        "# YOUR CHANGES HERE\n",
        "\n",
        "def p18(filename, column_name, column_value):\n",
        "    with open(filename) as fp:\n",
        "        def parse_line(line: str) -> list[str]:\n",
        "            return line.rstrip('\\n').replace('\"','').split('\\t')\n",
        "        try:\n",
        "            header = parse_line(next(fp))\n",
        "            for line in fp:\n",
        "                parsed_line = parse_line(line)\n",
        "                column_name_index = header.index(column_name)\n",
        "                if parse_line[column_name_index] == column_value:\n",
        "                    # return row as a dict\n",
        "                    result = {}\n",
        "                    for h, p in zip(header, parsed_line):\n",
        "                        result[h] = p\n",
        "                    return result\n",
        "        except:\n",
        "            pass\n",
        "        return None\n"
      ],
      "outputs": [],
      "metadata": {
        "id": "qAgVEX3eQ4Hm"
      }
    },
    {
      "cell_type": "code",
      "execution_count": 162,
      "source": [
        "p18(\"data18_a.tsv\", \"foo\", 3)"
      ],
      "outputs": [],
      "metadata": {}
    },
    {
      "cell_type": "code",
      "execution_count": 163,
      "source": [
        "p18(\"data18_a.tsv\", \"bar\", 4)"
      ],
      "outputs": [],
      "metadata": {}
    },
    {
      "cell_type": "markdown",
      "source": [
        "### Problem 19\n",
        "\n",
        "The following function `p19` is supposed to check if its input list has at least 10 entries, and return the 10th entry if it exists, and None if it has fewer than 10 entries.\n",
        "\n",
        "However, there is a bug in the code so it often returns wrong answers and sometimes crashes.\n",
        "Fix the bug in `p19`."
      ],
      "metadata": {
        "id": "9yDxpWGNIF_x"
      }
    },
    {
      "cell_type": "code",
      "execution_count": 164,
      "source": [
        "# YOUR CHANGES HERE\n",
        "\n",
        "def p19(input):\n",
        "    if len(input) >= 10:\n",
        "        return input[9]\n",
        "\n",
        "    return None"
      ],
      "outputs": [],
      "metadata": {
        "id": "pfYbydeAIN2V"
      }
    },
    {
      "cell_type": "code",
      "execution_count": 165,
      "source": [
        "# this should return \"a\"\n",
        "\n",
        "p19(\"aaaaaaaaaaaaaa\")"
      ],
      "outputs": [
        {
          "output_type": "execute_result",
          "data": {
            "text/plain": [
              "'a'"
            ]
          },
          "metadata": {},
          "execution_count": 165
        }
      ],
      "metadata": {
        "id": "AwmdK79zJeYd"
      }
    },
    {
      "cell_type": "code",
      "execution_count": 166,
      "source": [
        "# this should return None\n",
        "p19(\"bbbbbbb\")"
      ],
      "outputs": [],
      "metadata": {
        "id": "YKgSkDoGJhvz"
      }
    },
    {
      "cell_type": "code",
      "execution_count": 167,
      "source": [
        "# this should return \"j\"\n",
        "\n",
        "p19(\"abcdefghij\")"
      ],
      "outputs": [
        {
          "output_type": "execute_result",
          "data": {
            "text/plain": [
              "'j'"
            ]
          },
          "metadata": {},
          "execution_count": 167
        }
      ],
      "metadata": {
        "id": "eZ9mTjC2JZVc"
      }
    },
    {
      "cell_type": "markdown",
      "source": [
        "### Problem 20\n",
        "\n",
        "Set `p20` to be a list of filenames of the form \"data20_X.tsv\" that exist in the current directory.\n",
        "X should be a one digit number from 0 to 9.\n",
        "For example, the filename could be \"data20_0.tsv\", \"data20_9.tsv\", or any other filename using 0 to 9 to set X.\n",
        "\n"
      ],
      "metadata": {
        "id": "c2settRmJm80"
      }
    },
    {
      "cell_type": "markdown",
      "source": [
        "There are many ways to do this.\n",
        "It can be done using just this week's lessons.\n",
        "You may also find easier ways to check based on libraries.\n",
        "You may use libraries to solve this problem, as long as they are installed by default in our Codespaces environment.\n",
        "(If you try to install other libraries, your answer will likely be rejected by the auto-grader.)"
      ],
      "metadata": {
        "id": "K-hDzXy7LFwK"
      }
    },
    {
      "cell_type": "code",
      "execution_count": 168,
      "source": [
        "# YOUR CHANGES HERE\n",
        "import os\n",
        "\n",
        "def contains_str(s):\n",
        "    return 'data20_' in s\n",
        "\n",
        "p20 = []\n",
        "\n",
        "files_and_folders_in_working_dir = os.listdir('.')\n",
        "files_in_working_dir = [f for f in files_and_folders_in_working_dir if os.path.isfile(f)]\n",
        "p20 = list(filter(contains_str, files_in_working_dir))"
      ],
      "outputs": [],
      "metadata": {
        "colab": {
          "base_uri": "https://localhost:8080/"
        },
        "id": "7ZmPXwpsLmrp",
        "outputId": "a279e7ad-6c5c-4d39-8dbd-dfdb48cd286d"
      }
    },
    {
      "cell_type": "code",
      "execution_count": 169,
      "source": [
        "p20"
      ],
      "outputs": [
        {
          "output_type": "execute_result",
          "data": {
            "text/plain": [
              "['data20_0.tsv', 'data20_8.tsv']"
            ]
          },
          "metadata": {},
          "execution_count": 169
        }
      ],
      "metadata": {}
    }
  ],
  "metadata": {
    "colab": {
      "toc_visible": false
    },
    "kernelspec": {
      "name": "python3",
      "display_name": "Python 3.13.5 64-bit ('test_env': conda)"
    },
    "language_info": {
      "codemirror_mode": {
        "name": "ipython",
        "version": 3
      },
      "file_extension": ".py",
      "mimetype": "text/x-python",
      "name": "python",
      "nbconvert_exporter": "python",
      "pygments_lexer": "ipython3",
      "version": "3.13.5"
    },
    "interpreter": {
      "hash": "cb23f857d3c7f0ee2d2845c75d7b24082b558c492a726c87849400f4f24ab23a"
    }
  },
  "nbformat": 4,
  "nbformat_minor": 2
}